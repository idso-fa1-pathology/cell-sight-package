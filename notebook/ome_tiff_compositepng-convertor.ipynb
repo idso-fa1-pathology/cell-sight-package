{
 "cells": [
  {
   "cell_type": "code",
   "execution_count": 71,
   "id": "42773d54-cad7-41a8-9f30-9b059fb6a6e2",
   "metadata": {},
   "outputs": [
    {
     "name": "stdout",
     "output_type": "stream",
     "text": [
      "(3, 32768, 32768)\n",
      "3\n",
      "3\n",
      "channels created\n"
     ]
    }
   ],
   "source": [
    "import numpy as np\n",
    "import matplotlib.pyplot as plt\n",
    "import tifffile\n",
    "from tifffile import imwrite\n",
    "\n",
    "# Load the original OME-TIFF file\n",
    "nums = [16, 18, 23, 28, 29, 35, 38, 44, 66, 79]\n",
    "i = 23\n",
    "output_name = f'MS0{i}S1'\n",
    "input_name = f'{output_name} OME.ome.tiff'\n",
    "ome_tiff_path = f'/rsrch5/home/plm/yshokrollahi/project4/RawDataset/images/{input_name}'\n",
    "image_data = tifffile.imread(ome_tiff_path)\n",
    "print(image_data.shape)\n",
    "\n",
    "# Ensure the correct shape and data type\n",
    "print(image_data.ndim)  # Check for (1, C, 1, H, W)\n",
    "print(image_data.shape[0])  # Ensure 3 channels\n",
    "\n",
    "# Extract the channels and save them as separate TIFF files\n",
    "for c in range(image_data.shape[0]):\n",
    "    channel_image = image_data[c, :, :]\n",
    "    imwrite(f'/rsrch5/home/plm/yshokrollahi/project4/RawDataset/ome-png/img{i}_channel_{c}.tiff', channel_image)  # Replace with actual save path\n",
    "\n",
    "# Paths to the saved grayscale channel TIFF files\n",
    "channel_0_path = f'/rsrch5/home/plm/yshokrollahi/project4/RawDataset/ome-png/img{i}_channel_0.tiff'\n",
    "channel_1_path = f'/rsrch5/home/plm/yshokrollahi/project4/RawDataset/ome-png/img{i}_channel_1.tiff'\n",
    "channel_2_path = f'/rsrch5/home/plm/yshokrollahi/project4/RawDataset/ome-png/img{i}_channel_2.tiff'\n",
    "print(\"channels created\")\n",
    "# Load the grayscale images for each channel\n",
    "channel_0 = tifffile.imread(channel_0_path)\n",
    "channel_1 = tifffile.imread(channel_1_path)\n",
    "channel_2 = tifffile.imread(channel_2_path)\n",
    "\n",
    "# Normalize the grayscale images to the range [0, 1]\n",
    "channel_0 = channel_0.astype(np.float32) / np.max(channel_0)\n",
    "channel_1 = channel_1.astype(np.float32) / np.max(channel_1)\n",
    "channel_2 = channel_2.astype(np.float32) / np.max(channel_2)\n",
    "\n",
    "# Apply a brightness factor\n",
    "brightness_factor_0 = 1.0\n",
    "brightness_factor_1 = 1.0\n",
    "brightness_factor_2 = 3  # Increase brightness for yellow channel\n",
    "\n",
    "channel_0 = np.clip(channel_0 * brightness_factor_0, 0, 1)\n",
    "channel_1 = np.clip(channel_1 * brightness_factor_1, 0, 1)\n",
    "channel_2 = np.clip(channel_2 * brightness_factor_2, 0, 1)\n",
    "\n",
    "# Define colors for each channel (R, G, B)\n",
    "color_0 = np.array([0, 0, 1])  # Blue\n",
    "color_1 = np.array([0, 1, 0])  # Green\n",
    "color_2 = np.array([1, 1, 0])  # Yellow (Red + Green)\n",
    "\n",
    "# Color each channel\n",
    "colored_channel_0 = np.stack([channel_0 * color_0[i] for i in range(3)], axis=-1)\n",
    "colored_channel_1 = np.stack([channel_1 * color_1[i] for i in range(3)], axis=-1)\n",
    "colored_channel_2 = np.stack([channel_2 * color_2[i] for i in range(3)], axis=-1)\n",
    "\n",
    "# Merge colored channels to create a composite RGB image\n",
    "composite_image = colored_channel_0 + colored_channel_1 + colored_channel_2\n",
    "\n",
    "# Ensure composite image is in the correct range [0, 1]\n",
    "composite_image = np.clip(composite_image, 0, 1)\n",
    "\n",
    "# Save the composite image as PNG\n",
    "output_path = f'/rsrch5/home/plm/yshokrollahi/project4/RawDataset/ome-png/MS0{i}S1.png'  # Replace with actual save path\n",
    "plt.imsave(output_path, composite_image)\n"
   ]
  },
  {
   "cell_type": "code",
   "execution_count": null,
   "id": "0c9af412-af2c-4161-9d4a-9148efe4d79f",
   "metadata": {},
   "outputs": [],
   "source": []
  }
 ],
 "metadata": {
  "kernelspec": {
   "display_name": "myenv",
   "language": "python",
   "name": "myenv"
  },
  "language_info": {
   "codemirror_mode": {
    "name": "ipython",
    "version": 3
   },
   "file_extension": ".py",
   "mimetype": "text/x-python",
   "name": "python",
   "nbconvert_exporter": "python",
   "pygments_lexer": "ipython3",
   "version": "3.10.14"
  }
 },
 "nbformat": 4,
 "nbformat_minor": 5
}
