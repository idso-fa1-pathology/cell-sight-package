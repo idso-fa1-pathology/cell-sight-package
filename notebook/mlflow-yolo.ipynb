{
 "cells": [
  {
   "cell_type": "code",
   "execution_count": 1,
   "id": "47cbc992-7f55-498c-bfbf-04b956aa7a29",
   "metadata": {},
   "outputs": [],
   "source": [
    "import mlflow\n",
    "import mlflow.sklearn  # or mlflow.<your_ml_framework>\n"
   ]
  },
  {
   "cell_type": "code",
   "execution_count": 2,
   "id": "1e1f6b05-5a0d-410d-9024-84496cdce365",
   "metadata": {},
   "outputs": [
    {
     "data": {
      "text/plain": [
       "<Experiment: artifact_location='file:///rsrch5/home/plm/yshokrollahi/project4/mlruns/203727228454802580', creation_time=1721059740401, experiment_id='203727228454802580', last_update_time=1721059740401, lifecycle_stage='active', name='my_experiment', tags={}>"
      ]
     },
     "execution_count": 2,
     "metadata": {},
     "output_type": "execute_result"
    }
   ],
   "source": [
    "mlflow.set_experiment(\"my_experiment\")\n"
   ]
  },
  {
   "cell_type": "code",
   "execution_count": 13,
   "id": "89a26381-31de-4627-b686-87d7f6f2317c",
   "metadata": {},
   "outputs": [
    {
     "name": "stdout",
     "output_type": "stream",
     "text": [
      "New https://pypi.org/project/ultralytics/8.2.57 available 😃 Update with 'pip install -U ultralytics'\n",
      "Ultralytics YOLOv8.2.54 🚀 Python-3.10.14 torch-2.1.2+cu121 CUDA:0 (NVIDIA GeForce RTX 4090, 24209MiB)\n",
      "\u001b[34m\u001b[1mengine/trainer: \u001b[0mtask=detect, mode=train, model=yolov8n.pt, data=/rsrch5/home/plm/yshokrollahi/project4/RawDataset/dataset/config.yaml, epochs=1, time=None, patience=100, batch=4, imgsz=640, save=True, save_period=-1, cache=False, device=None, workers=8, project=None, name=train25, exist_ok=False, pretrained=True, optimizer=auto, verbose=True, seed=0, deterministic=True, single_cls=False, rect=False, cos_lr=False, close_mosaic=10, resume=False, amp=True, fraction=1.0, profile=False, freeze=None, multi_scale=False, overlap_mask=True, mask_ratio=4, dropout=0.0, val=True, split=val, save_json=False, save_hybrid=False, conf=None, iou=0.7, max_det=300, half=False, dnn=False, plots=True, source=None, vid_stride=1, stream_buffer=False, visualize=False, augment=False, agnostic_nms=False, classes=None, retina_masks=False, embed=None, show=False, save_frames=False, save_txt=False, save_conf=False, save_crop=False, show_labels=True, show_conf=True, show_boxes=True, line_width=None, format=torchscript, keras=False, optimize=False, int8=False, dynamic=False, simplify=False, opset=None, workspace=4, nms=False, lr0=0.01, lrf=0.01, momentum=0.937, weight_decay=0.0005, warmup_epochs=3.0, warmup_momentum=0.8, warmup_bias_lr=0.1, box=7.5, cls=0.5, dfl=1.5, pose=12.0, kobj=1.0, label_smoothing=0.0, nbs=64, hsv_h=0.015, hsv_s=0.7, hsv_v=0.4, degrees=0.0, translate=0.1, scale=0.5, shear=0.0, perspective=0.0, flipud=0.0, fliplr=0.5, bgr=0.0, mosaic=1.0, mixup=0.0, copy_paste=0.0, auto_augment=randaugment, erasing=0.4, crop_fraction=1.0, cfg=None, tracker=botsort.yaml, save_dir=runs/detect/train25\n",
      "Overriding model.yaml nc=80 with nc=3\n",
      "\n",
      "                   from  n    params  module                                       arguments                     \n",
      "  0                  -1  1       464  ultralytics.nn.modules.conv.Conv             [3, 16, 3, 2]                 \n",
      "  1                  -1  1      4672  ultralytics.nn.modules.conv.Conv             [16, 32, 3, 2]                \n",
      "  2                  -1  1      7360  ultralytics.nn.modules.block.C2f             [32, 32, 1, True]             \n",
      "  3                  -1  1     18560  ultralytics.nn.modules.conv.Conv             [32, 64, 3, 2]                \n",
      "  4                  -1  2     49664  ultralytics.nn.modules.block.C2f             [64, 64, 2, True]             \n",
      "  5                  -1  1     73984  ultralytics.nn.modules.conv.Conv             [64, 128, 3, 2]               \n",
      "  6                  -1  2    197632  ultralytics.nn.modules.block.C2f             [128, 128, 2, True]           \n",
      "  7                  -1  1    295424  ultralytics.nn.modules.conv.Conv             [128, 256, 3, 2]              \n",
      "  8                  -1  1    460288  ultralytics.nn.modules.block.C2f             [256, 256, 1, True]           \n",
      "  9                  -1  1    164608  ultralytics.nn.modules.block.SPPF            [256, 256, 5]                 \n",
      " 10                  -1  1         0  torch.nn.modules.upsampling.Upsample         [None, 2, 'nearest']          \n",
      " 11             [-1, 6]  1         0  ultralytics.nn.modules.conv.Concat           [1]                           \n",
      " 12                  -1  1    148224  ultralytics.nn.modules.block.C2f             [384, 128, 1]                 \n",
      " 13                  -1  1         0  torch.nn.modules.upsampling.Upsample         [None, 2, 'nearest']          \n",
      " 14             [-1, 4]  1         0  ultralytics.nn.modules.conv.Concat           [1]                           \n",
      " 15                  -1  1     37248  ultralytics.nn.modules.block.C2f             [192, 64, 1]                  \n",
      " 16                  -1  1     36992  ultralytics.nn.modules.conv.Conv             [64, 64, 3, 2]                \n",
      " 17            [-1, 12]  1         0  ultralytics.nn.modules.conv.Concat           [1]                           \n",
      " 18                  -1  1    123648  ultralytics.nn.modules.block.C2f             [192, 128, 1]                 \n",
      " 19                  -1  1    147712  ultralytics.nn.modules.conv.Conv             [128, 128, 3, 2]              \n",
      " 20             [-1, 9]  1         0  ultralytics.nn.modules.conv.Concat           [1]                           \n",
      " 21                  -1  1    493056  ultralytics.nn.modules.block.C2f             [384, 256, 1]                 \n",
      " 22        [15, 18, 21]  1    751897  ultralytics.nn.modules.head.Detect           [3, [64, 128, 256]]           \n",
      "Model summary: 225 layers, 3011433 parameters, 3011417 gradients, 8.2 GFLOPs\n",
      "\n",
      "Transferred 319/355 items from pretrained weights\n",
      "\u001b[34m\u001b[1mTensorBoard: \u001b[0mStart with 'tensorboard --logdir runs/detect/train25', view at http://localhost:6006/\n",
      "Freezing layer 'model.22.dfl.conv.weight'\n",
      "\u001b[34m\u001b[1mAMP: \u001b[0mrunning Automatic Mixed Precision (AMP) checks with YOLOv8n...\n",
      "\u001b[34m\u001b[1mAMP: \u001b[0mchecks passed ✅\n"
     ]
    },
    {
     "name": "stderr",
     "output_type": "stream",
     "text": [
      "\u001b[34m\u001b[1mtrain: \u001b[0mScanning /rsrch5/home/plm/yshokrollahi/project4/RawDataset/dataset/train/labels.cache... 1316 images, 0 backg\u001b[0m"
     ]
    },
    {
     "name": "stdout",
     "output_type": "stream",
     "text": [
      "\u001b[34m\u001b[1mtrain: \u001b[0mWARNING ⚠️ /rsrch5/home/plm/yshokrollahi/project4/RawDataset/dataset/train/images/16_patch_1211.png: ignoring corrupt image/label: cannot identify image file '/rsrch5/home/plm/yshokrollahi/project4/RawDataset/dataset/train/images/16_patch_1211.png'\n",
      "\u001b[34m\u001b[1mtrain: \u001b[0mWARNING ⚠️ /rsrch5/home/plm/yshokrollahi/project4/RawDataset/dataset/train/images/16_patch_496.png: ignoring corrupt image/label: cannot identify image file '/rsrch5/home/plm/yshokrollahi/project4/RawDataset/dataset/train/images/16_patch_496.png'\n",
      "\u001b[34m\u001b[1mtrain: \u001b[0mWARNING ⚠️ /rsrch5/home/plm/yshokrollahi/project4/RawDataset/dataset/train/images/16_patch_513.png: ignoring corrupt image/label: cannot identify image file '/rsrch5/home/plm/yshokrollahi/project4/RawDataset/dataset/train/images/16_patch_513.png'\n",
      "\u001b[34m\u001b[1mtrain: \u001b[0mWARNING ⚠️ /rsrch5/home/plm/yshokrollahi/project4/RawDataset/dataset/train/images/18_patch_182.png: 1 duplicate labels removed\n",
      "\u001b[34m\u001b[1mtrain: \u001b[0mWARNING ⚠️ /rsrch5/home/plm/yshokrollahi/project4/RawDataset/dataset/train/images/29_patch_1303.png: 1 duplicate labels removed\n",
      "\u001b[34m\u001b[1mtrain: \u001b[0mWARNING ⚠️ /rsrch5/home/plm/yshokrollahi/project4/RawDataset/dataset/train/images/29_patch_362.png: 1 duplicate labels removed\n",
      "\u001b[34m\u001b[1mtrain: \u001b[0mWARNING ⚠️ /rsrch5/home/plm/yshokrollahi/project4/RawDataset/dataset/train/images/29_patch_817.png: 1 duplicate labels removed\n",
      "\u001b[34m\u001b[1mtrain: \u001b[0mWARNING ⚠️ /rsrch5/home/plm/yshokrollahi/project4/RawDataset/dataset/train/images/29_patch_901.png: 1 duplicate labels removed\n",
      "\u001b[34m\u001b[1mtrain: \u001b[0mWARNING ⚠️ /rsrch5/home/plm/yshokrollahi/project4/RawDataset/dataset/train/images/38_patch_1027.png: ignoring corrupt image/label: cannot identify image file '/rsrch5/home/plm/yshokrollahi/project4/RawDataset/dataset/train/images/38_patch_1027.png'\n",
      "\u001b[34m\u001b[1mtrain: \u001b[0mWARNING ⚠️ /rsrch5/home/plm/yshokrollahi/project4/RawDataset/dataset/train/images/38_patch_439.png: ignoring corrupt image/label: cannot identify image file '/rsrch5/home/plm/yshokrollahi/project4/RawDataset/dataset/train/images/38_patch_439.png'\n",
      "\u001b[34m\u001b[1mtrain: \u001b[0mWARNING ⚠️ /rsrch5/home/plm/yshokrollahi/project4/RawDataset/dataset/train/images/44_patch_1153.png: ignoring corrupt image/label: cannot identify image file '/rsrch5/home/plm/yshokrollahi/project4/RawDataset/dataset/train/images/44_patch_1153.png'\n",
      "\u001b[34m\u001b[1mtrain: \u001b[0mWARNING ⚠️ /rsrch5/home/plm/yshokrollahi/project4/RawDataset/dataset/train/images/44_patch_339.png: ignoring corrupt image/label: 'utf-8' codec can't decode byte 0xb0 in position 37: invalid start byte\n",
      "\u001b[34m\u001b[1mtrain: \u001b[0mWARNING ⚠️ /rsrch5/home/plm/yshokrollahi/project4/RawDataset/dataset/train/images/44_patch_854.png: 1 duplicate labels removed\n",
      "\u001b[34m\u001b[1mtrain: \u001b[0mWARNING ⚠️ /rsrch5/home/plm/yshokrollahi/project4/RawDataset/dataset/train/images/79_patch_328.png: 1 duplicate labels removed\n"
     ]
    },
    {
     "name": "stderr",
     "output_type": "stream",
     "text": [
      "\n",
      "\u001b[34m\u001b[1mval: \u001b[0mScanning /rsrch5/home/plm/yshokrollahi/project4/RawDataset/dataset/valid/labels.cache... 331 images, 0 backgrou\u001b[0m\n"
     ]
    },
    {
     "name": "stdout",
     "output_type": "stream",
     "text": [
      "Plotting labels to runs/detect/train25/labels.jpg... \n",
      "\u001b[34m\u001b[1moptimizer:\u001b[0m 'optimizer=auto' found, ignoring 'lr0=0.01' and 'momentum=0.937' and determining best 'optimizer', 'lr0' and 'momentum' automatically... \n",
      "\u001b[34m\u001b[1moptimizer:\u001b[0m AdamW(lr=0.001429, momentum=0.9) with parameter groups 57 weight(decay=0.0), 64 weight(decay=0.0005), 63 bias(decay=0.0)\n"
     ]
    },
    {
     "name": "stderr",
     "output_type": "stream",
     "text": [
      "2024/07/15 11:48:07 INFO mlflow.tracking.fluent: Experiment with name '/Shared/YOLOv8' does not exist. Creating a new experiment.\n",
      "2024/07/15 11:48:07 INFO mlflow.tracking.fluent: Autologging successfully enabled for tensorflow.\n",
      "2024/07/15 11:48:07 INFO mlflow.tracking.fluent: Autologging successfully enabled for keras.\n"
     ]
    },
    {
     "name": "stdout",
     "output_type": "stream",
     "text": [
      "\u001b[34m\u001b[1mMLflow: \u001b[0mlogging run_id(e5cde304887143a08c88dab45886f9e9) to runs/mlflow\n",
      "\u001b[34m\u001b[1mMLflow: \u001b[0mview at http://127.0.0.1:5000 with 'mlflow server --backend-store-uri runs/mlflow'\n",
      "\u001b[34m\u001b[1mMLflow: \u001b[0mdisable with 'yolo settings mlflow=False'\n",
      "\u001b[34m\u001b[1mTensorBoard: \u001b[0mmodel graph visualization added ✅\n",
      "Image sizes 640 train, 640 val\n",
      "Using 8 dataloader workers\n",
      "Logging results to \u001b[1mruns/detect/train25\u001b[0m\n",
      "Starting training for 1 epochs...\n",
      "\n",
      "      Epoch    GPU_mem   box_loss   cls_loss   dfl_loss  Instances       Size\n"
     ]
    },
    {
     "name": "stderr",
     "output_type": "stream",
     "text": [
      "        1/1      4.38G      2.925      4.211      2.006         67        640: 100%|██████████| 329/329 [00:13<00:00\n",
      "                 Class     Images  Instances      Box(P          R      mAP50  mAP50-95): 100%|██████████| 42/42 [00\n"
     ]
    },
    {
     "name": "stdout",
     "output_type": "stream",
     "text": [
      "                   all        331       3666    0.00314     0.0881    0.00192   0.000549\n",
      "\n",
      "1 epochs completed in 0.017 hours.\n",
      "Optimizer stripped from runs/detect/train25/weights/last.pt, 6.2MB\n",
      "Optimizer stripped from runs/detect/train25/weights/best.pt, 6.2MB\n",
      "\n",
      "Validating runs/detect/train25/weights/best.pt...\n",
      "Ultralytics YOLOv8.2.54 🚀 Python-3.10.14 torch-2.1.2+cu121 CUDA:0 (NVIDIA GeForce RTX 4090, 24209MiB)\n",
      "Model summary (fused): 168 layers, 3006233 parameters, 0 gradients, 8.1 GFLOPs\n"
     ]
    },
    {
     "name": "stderr",
     "output_type": "stream",
     "text": [
      "                 Class     Images  Instances      Box(P          R      mAP50  mAP50-95): 100%|██████████| 42/42 [00\n"
     ]
    },
    {
     "name": "stdout",
     "output_type": "stream",
     "text": [
      "                   all        331       3666    0.00308     0.0871    0.00189    0.00054\n",
      "                  cd45        259       1640    0.00454      0.161    0.00298   0.000854\n",
      "                 panCK         72       1121    0.00223      0.033    0.00126   0.000369\n",
      "                Others        112        905    0.00248     0.0674    0.00143   0.000398\n",
      "Speed: 0.1ms preprocess, 1.1ms inference, 0.0ms loss, 1.3ms postprocess per image\n",
      "Results saved to \u001b[1mruns/detect/train25\u001b[0m\n",
      "\u001b[34m\u001b[1mMLflow: \u001b[0mresults logged to runs/mlflow\n",
      "\u001b[34m\u001b[1mMLflow: \u001b[0mdisable with 'yolo settings mlflow=False'\n",
      "Training and logging completed successfully!\n"
     ]
    }
   ],
   "source": [
    "import mlflow\n",
    "import os\n",
    "import sys\n",
    "import torch\n",
    "from ultralytics import YOLO\n",
    "import re\n",
    "\n",
    "def sanitize_metric_name(name):\n",
    "    return re.sub(r'[^a-zA-Z0-9_\\-. /]', '_', name)\n",
    "\n",
    "def save_yolo_model(model, path):\n",
    "    model.save(path)\n",
    "\n",
    "mlflow.set_experiment(\"YOLOv8_Training\")\n",
    "\n",
    "with mlflow.start_run():\n",
    "    # Log parameters\n",
    "    mlflow.log_param(\"model\", \"yolov8x.pt\")\n",
    "    mlflow.log_param(\"data\", \"/rsrch5/home/plm/yshokrollahi/project4/RawDataset/dataset/config.yaml\")\n",
    "    mlflow.log_param(\"epochs\", 250)\n",
    "    mlflow.log_param(\"batch_size\", 32)\n",
    "    mlflow.log_param(\"image_size\", 640)\n",
    "    mlflow.log_param(\"data_version\", \"1.0\")  # Adjust as needed\n",
    "    mlflow.log_param(\"code_version\", \"1.0\")  # Adjust as needed\n",
    "\n",
    "    # Log system info\n",
    "    mlflow.log_param(\"python_version\", sys.version)\n",
    "    mlflow.log_param(\"torch_version\", torch.__version__)\n",
    "    if torch.cuda.is_available():\n",
    "        mlflow.log_param(\"cuda_version\", torch.version.cuda)\n",
    "        mlflow.log_param(\"gpu_name\", torch.cuda.get_device_name(0))\n",
    "\n",
    "    # Set up and train YOLOv8 model\n",
    "    model = YOLO('yolov8x.pt')\n",
    "    results = model.train(\n",
    "        data='/rsrch5/home/plm/yshokrollahi/project4/RawDataset/dataset/config.yaml', \n",
    "        epochs=250, \n",
    "        batch=32, \n",
    "        imgsz=640\n",
    "    )\n",
    "\n",
    "    # Log metrics\n",
    "    metrics = results.results_dict\n",
    "    for key, value in metrics.items():\n",
    "        try:\n",
    "            sanitized_key = sanitize_metric_name(key)\n",
    "            mlflow.log_metric(sanitized_key, value)\n",
    "        except Exception as e:\n",
    "            print(f\"Error logging metric {key}: {e}\")\n",
    "\n",
    "    # Save and log the model\n",
    "    model_path = os.path.join(results.save_dir, 'weights', 'best.pt')\n",
    "    save_yolo_model(model, model_path)\n",
    "    mlflow.log_artifact(model_path, \"model\")\n",
    "\n",
    "    # Log the training configuration file\n",
    "    mlflow.log_artifact('/rsrch5/home/plm/yshokrollahi/project4/RawDataset/dataset-mod/config.yaml')\n",
    "\n",
    "    # Optionally, log other relevant artifacts\n",
    "    # Log the labels plot\n",
    "    labels_plot_path = os.path.join(results.save_dir, 'labels.jpg')\n",
    "    if os.path.exists(labels_plot_path):\n",
    "        mlflow.log_artifact(labels_plot_path, \"plots\")\n",
    "\n",
    "    # Log the results plot\n",
    "    results_plot_path = os.path.join(results.save_dir, 'results.png')\n",
    "    if os.path.exists(results_plot_path):\n",
    "        mlflow.log_artifact(results_plot_path, \"plots\")\n",
    "\n",
    "    # Log the confusion matrix\n",
    "    confusion_matrix_path = os.path.join(results.save_dir, 'confusion_matrix.png')\n",
    "    if os.path.exists(confusion_matrix_path):\n",
    "        mlflow.log_artifact(confusion_matrix_path, \"plots\")\n",
    "\n",
    "print(\"Training and logging completed successfully!\")"
   ]
  },
  {
   "cell_type": "code",
   "execution_count": null,
   "id": "be9b058e-9d0a-474c-acad-a337632fb08a",
   "metadata": {},
   "outputs": [],
   "source": []
  }
 ],
 "metadata": {
  "kernelspec": {
   "display_name": "myenv",
   "language": "python",
   "name": "myenv"
  },
  "language_info": {
   "codemirror_mode": {
    "name": "ipython",
    "version": 3
   },
   "file_extension": ".py",
   "mimetype": "text/x-python",
   "name": "python",
   "nbconvert_exporter": "python",
   "pygments_lexer": "ipython3",
   "version": "3.10.14"
  }
 },
 "nbformat": 4,
 "nbformat_minor": 5
}
